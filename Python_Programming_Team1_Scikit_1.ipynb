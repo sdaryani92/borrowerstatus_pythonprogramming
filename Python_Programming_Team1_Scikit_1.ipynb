{
 "cells": [
  {
   "cell_type": "markdown",
   "metadata": {},
   "source": [
    "<b><i><u> Python Programming <br> Group Project - Scikit Learn <br> Team 1</u></i></b>"
   ]
  },
  {
   "cell_type": "markdown",
   "metadata": {},
   "source": [
    "<b><i><u>1. Data Preprocessing </u></i></b>"
   ]
  },
  {
   "cell_type": "markdown",
   "metadata": {},
   "source": [
    "<b>&nbsp;&nbsp;&nbsp;&nbsp;&nbsp;&nbsp;&nbsp;&nbsp;1.1 Data Load</b>"
   ]
  },
  {
   "cell_type": "code",
   "execution_count": 1,
   "metadata": {},
   "outputs": [],
   "source": [
    "#importing required libraries\n",
    "\n",
    "import pandas as pd\n",
    "import numpy as np"
   ]
  },
  {
   "cell_type": "code",
   "execution_count": 2,
   "metadata": {},
   "outputs": [
    {
     "name": "stdout",
     "output_type": "stream",
     "text": [
      "    id  member_id  loan_amnt  funded_amnt  funded_amnt_inv        term  \\\n",
      "0  NaN        NaN     7200.0       7200.0           7200.0   36 months   \n",
      "\n",
      "  int_rate  installment grade sub_grade       ...         \\\n",
      "0   13.58%       244.62     C        C2       ...          \n",
      "\n",
      "  hardship_payoff_balance_amount hardship_last_payment_amount  \\\n",
      "0                            NaN                          NaN   \n",
      "\n",
      "  disbursement_method  debt_settlement_flag debt_settlement_flag_date  \\\n",
      "0                Cash                     N                       NaN   \n",
      "\n",
      "  settlement_status settlement_date settlement_amount  settlement_percentage  \\\n",
      "0               NaN             NaN               NaN                    NaN   \n",
      "\n",
      "   settlement_term  \n",
      "0              NaN  \n",
      "\n",
      "[1 rows x 145 columns]\n",
      "         id  member_id  loan_amnt  funded_amnt  funded_amnt_inv        term  \\\n",
      "107863  NaN        NaN    14000.0      14000.0          13975.0   36 months   \n",
      "\n",
      "       int_rate  installment grade sub_grade       ...         \\\n",
      "107863   13.59%       475.71     C        C2       ...          \n",
      "\n",
      "       hardship_payoff_balance_amount hardship_last_payment_amount  \\\n",
      "107863                            NaN                          NaN   \n",
      "\n",
      "       disbursement_method  debt_settlement_flag debt_settlement_flag_date  \\\n",
      "107863                Cash                     N                       NaN   \n",
      "\n",
      "       settlement_status settlement_date settlement_amount  \\\n",
      "107863               NaN             NaN               NaN   \n",
      "\n",
      "        settlement_percentage  settlement_term  \n",
      "107863                    NaN              NaN  \n",
      "\n",
      "[1 rows x 145 columns]\n"
     ]
    }
   ],
   "source": [
    "#Loading the text data file\n",
    "\n",
    "loan_data = pd.read_csv(\"LoanStats_2018Q1.csv\", skiprows= 1, low_memory = False) \n",
    "loan_data = loan_data[:-2]\n",
    "\n",
    "print(loan_data.head(1))\n",
    "print(loan_data.tail(1))"
   ]
  },
  {
   "cell_type": "markdown",
   "metadata": {},
   "source": [
    "<b>&nbsp;&nbsp;&nbsp;&nbsp;&nbsp;&nbsp;&nbsp;&nbsp;1.2 Fill Missing Values and Select Required Columns\n",
    "</b>"
   ]
  },
  {
   "cell_type": "code",
   "execution_count": 3,
   "metadata": {},
   "outputs": [],
   "source": [
    "# Fill missing values for the requires columns\n",
    "\n",
    "loan_data['dti'] = loan_data['dti'].fillna(0)\n",
    "loan_data['avg_cur_bal'] = loan_data['avg_cur_bal'].fillna(0)"
   ]
  },
  {
   "cell_type": "code",
   "execution_count": 4,
   "metadata": {},
   "outputs": [],
   "source": [
    "#Selecting required columns for each regression\n",
    "\n",
    "loan_data_lin = loan_data.filter(items = [\"application_type\", 'home_ownership',\"funded_amnt\",\"annual_inc\", \"delinq_2yrs\", \n",
    "                                          \"loan_amnt\", \"max_bal_bc\", \"mort_acc\", \"num_accts_ever_120_pd\", \"num_actv_bc_tl\", \n",
    "                                          \"num_actv_rev_tl\", \"num_bc_sats\"])\n",
    "\n",
    "loan_data_log = loan_data.filter(items = ['home_ownership',\"acc_now_delinq\" , \"annual_inc\", \"avg_cur_bal\", \"delinq_amnt\", \n",
    "                                          \"dti\" , \"mort_acc\", \"pub_rec_bankruptcies\", \"grade\"])"
   ]
  },
  {
   "cell_type": "markdown",
   "metadata": {},
   "source": [
    "<b>&nbsp;&nbsp;&nbsp;&nbsp;&nbsp;&nbsp;&nbsp;&nbsp;1.3 Function to create dummy variables</b>"
   ]
  },
  {
   "cell_type": "code",
   "execution_count": 5,
   "metadata": {},
   "outputs": [],
   "source": [
    "# Creating dummy variables for categorical predictors\n",
    "\n",
    "from sklearn.preprocessing import OneHotEncoder\n",
    "from sklearn.preprocessing import LabelEncoder\n",
    "\n",
    "def getdummies(res, ls):\n",
    "    def encode(encode_df):\n",
    "        encode_df = np.array(encode_df)\n",
    "        enc = OneHotEncoder()\n",
    "        le = LabelEncoder()\n",
    "        le.fit(encode_df)\n",
    "        res1 = le.transform(encode_df).reshape(-1, 1)\n",
    "        enc.fit(res1)\n",
    "        return pd.DataFrame(enc.transform(res1).toarray()), le, enc\n",
    "\n",
    "    decoder = []\n",
    "    outres = pd.DataFrame({'A' : []})\n",
    "\n",
    "    for l in ls:\n",
    "        cat, le, enc = encode(res[l])\n",
    "        cat.columns = [l+str(x) for x in cat.columns]\n",
    "        outres.reset_index(drop=True, inplace=True)\n",
    "        outres = pd.concat([outres, cat], axis = 1)\n",
    "        decoder.append([le,enc])     \n",
    "    \n",
    "    return (outres, decoder)"
   ]
  },
  {
   "cell_type": "markdown",
   "metadata": {},
   "source": [
    "<b><i><u>2. Linear Regression</u></i></b>"
   ]
  },
  {
   "cell_type": "markdown",
   "metadata": {},
   "source": [
    "<b>&nbsp;&nbsp;&nbsp;&nbsp;&nbsp;&nbsp;&nbsp;&nbsp;2.1 Call Dummy Variable Function and Split Predictors and Target</b>"
   ]
  },
  {
   "cell_type": "code",
   "execution_count": 6,
   "metadata": {},
   "outputs": [],
   "source": [
    "#Identifying categorical predictors to create dummy variables\n",
    "categorical_lin = [ \"application_type\", 'home_ownership']\n",
    "\n",
    "#Calling the dummy variable creation function\n",
    "res = getdummies(loan_data_lin[categorical_lin],categorical_lin)\n",
    "df = res[0]\n",
    "decoder = res[1]\n",
    "\n",
    "#Separating the predictors and target variable\n",
    "lin_X = pd.concat([df,loan_data_lin],axis=1)\n",
    "lin_X = lin_X.drop(columns = ['A',\"application_type\", 'home_ownership','funded_amnt'])\n",
    "\n",
    "lin_y=loan_data_lin['funded_amnt']"
   ]
  },
  {
   "cell_type": "markdown",
   "metadata": {},
   "source": [
    "<b>&nbsp;&nbsp;&nbsp;&nbsp;&nbsp;&nbsp;&nbsp;&nbsp;2.2 Test & Train Split</b>"
   ]
  },
  {
   "cell_type": "code",
   "execution_count": 7,
   "metadata": {},
   "outputs": [],
   "source": [
    "#Split the data into test and training datasets\n",
    "from sklearn.model_selection import train_test_split\n",
    "\n",
    "lin_X_train, lin_X_test, lin_y_train, lin_y_test = train_test_split(lin_X, lin_y, test_size=0.25, random_state=42)"
   ]
  },
  {
   "cell_type": "markdown",
   "metadata": {},
   "source": [
    "<b>&nbsp;&nbsp;&nbsp;&nbsp;&nbsp;&nbsp;&nbsp;&nbsp;2.3 Make Model</b>"
   ]
  },
  {
   "cell_type": "code",
   "execution_count": 8,
   "metadata": {},
   "outputs": [
    {
     "name": "stdout",
     "output_type": "stream",
     "text": [
      "Coefficients: \n",
      " [-2.47649724e-12  2.47647741e-12  1.07655184e-10 -4.89695471e-11\n",
      " -2.95876278e-11 -2.90979362e-11  5.40539168e-17 -7.10427651e-13\n",
      "  1.00000000e+00  7.50553917e-17  2.76764126e-13 -7.16360960e-14\n",
      " -1.72281392e-12  1.23101893e-12  7.43488123e-13]\n"
     ]
    }
   ],
   "source": [
    "#Train linear regression model\n",
    "from sklearn import linear_model\n",
    "\n",
    "regr = linear_model.LinearRegression()\n",
    "regr.fit(lin_X_train, lin_y_train)\n",
    "\n",
    "print('Coefficients: \\n', regr.coef_)"
   ]
  },
  {
   "cell_type": "code",
   "execution_count": 9,
   "metadata": {},
   "outputs": [],
   "source": [
    "#Predict values of test set based on trained model\n",
    "lin_y_pred = regr.predict(lin_X_test)"
   ]
  },
  {
   "cell_type": "markdown",
   "metadata": {},
   "source": [
    "<b>&nbsp;&nbsp;&nbsp;&nbsp;&nbsp;&nbsp;&nbsp;&nbsp;2.4 Model Summary</b>"
   ]
  },
  {
   "cell_type": "code",
   "execution_count": 10,
   "metadata": {},
   "outputs": [
    {
     "name": "stdout",
     "output_type": "stream",
     "text": [
      "Mean squared error: 0.00\n",
      "R-Squared value is: 1.00\n"
     ]
    }
   ],
   "source": [
    "#Assessing model accuracy. Getting summary statistics\n",
    "from sklearn.metrics import mean_squared_error, r2_score\n",
    "\n",
    "# The mean squared error\n",
    "print(\"Mean squared error: %.2f\"\n",
    "      % mean_squared_error(lin_y_test, lin_y_pred))\n",
    "\n",
    "# Explained variance score: 1 is perfect prediction\n",
    "print('R-Squared value is: %.2f' % r2_score(lin_y_test, lin_y_pred))"
   ]
  },
  {
   "cell_type": "code",
   "execution_count": 12,
   "metadata": {},
   "outputs": [
    {
     "data": {
      "image/png": "[encoded data removed]",
      "text/plain": [
       "<Figure size 432x288 with 1 Axes>"
      ]
     },
     "metadata": {},
     "output_type": "display_data"
    }
   ],
   "source": [
    "#Plot predictions with test variables \n",
    "import matplotlib.pyplot as plt\n",
    "\n",
    "plt.scatter(lin_y_pred, lin_y_test,  color='black')\n",
    "\n",
    "plt.xticks(())\n",
    "plt.yticks(())\n",
    "\n",
    "plt.show()"
   ]
  },
  {
   "cell_type": "markdown",
   "metadata": {},
   "source": [
    "<b><i><u>3. Logistic Regression</u></i></b>"
   ]
  },
  {
   "cell_type": "markdown",
   "metadata": {},
   "source": [
    "<b>&nbsp;&nbsp;&nbsp;&nbsp;&nbsp;&nbsp;&nbsp;&nbsp;3.1 Balance Target Variable</b>"
   ]
  },
  {
   "cell_type": "code",
   "execution_count": 13,
   "metadata": {},
   "outputs": [
    {
     "name": "stdout",
     "output_type": "stream",
     "text": [
      "Before : \n",
      "B    32482\n",
      "C    28747\n",
      "A    26769\n",
      "D    15377\n",
      "E     3691\n",
      "F      682\n",
      "G      116\n",
      "Name: grade, dtype: int64\n",
      "After : \n",
      "B    32482\n",
      "C    28747\n",
      "A    26769\n",
      "D    19866\n",
      "Name: grade, dtype: int64\n"
     ]
    }
   ],
   "source": [
    "#Converting the target categorical variable to numeric\n",
    "\n",
    "def conv_grade(x):\n",
    "    if(x == 'A'):\n",
    "        r = 'A'\n",
    "    elif(x == 'B'):\n",
    "        r = 'B'\n",
    "    elif(x == 'C'):\n",
    "        r = 'C'\n",
    "    elif(x == 'D'):\n",
    "        r = 'D'\n",
    "    else:\n",
    "        r = 'D'\n",
    "    return r\n",
    "\n",
    "print(\"Before : \")\n",
    "print(loan_data_log.grade.value_counts())\n",
    "loan_data_log['grade'] = loan_data_log['grade'].apply(conv_grade)\n",
    "print(\"After : \")\n",
    "print(loan_data_log.grade.value_counts())"
   ]
  },
  {
   "cell_type": "markdown",
   "metadata": {},
   "source": [
    "<b>&nbsp;&nbsp;&nbsp;&nbsp;&nbsp;&nbsp;&nbsp;&nbsp;3.2 Call Dummy Variable Function and Split Predictors and Target</b>"
   ]
  },
  {
   "cell_type": "code",
   "execution_count": 14,
   "metadata": {},
   "outputs": [],
   "source": [
    "#Identifying categorical predictors to create dummy variables\n",
    "categorical_log = [ 'home_ownership']\n",
    "\n",
    "#Calling the dummy variable creation function\n",
    "res = getdummies(loan_data_log[categorical_log],categorical_log)\n",
    "df = res[0]\n",
    "decoder = res[1]\n",
    "\n",
    "#Separating the predictors and target variable\n",
    "log_X = pd.concat([df,loan_data_log],axis=1)\n",
    "log_X = log_X.drop(columns = ['A', 'home_ownership','grade'])\n",
    "\n",
    "log_y=loan_data_log['grade']"
   ]
  },
  {
   "cell_type": "markdown",
   "metadata": {},
   "source": [
    "<b>&nbsp;&nbsp;&nbsp;&nbsp;&nbsp;&nbsp;&nbsp;&nbsp;3.3 Test & Train Split</b>"
   ]
  },
  {
   "cell_type": "code",
   "execution_count": 15,
   "metadata": {},
   "outputs": [],
   "source": [
    "#Split the data into test and training datasets\n",
    "\n",
    "from sklearn.model_selection import train_test_split\n",
    "\n",
    "log_X_train, log_X_test, log_y_train, log_y_test = train_test_split(log_X, log_y, test_size=0.25, random_state = 55)"
   ]
  },
  {
   "cell_type": "markdown",
   "metadata": {},
   "source": [
    "<b>&nbsp;&nbsp;&nbsp;&nbsp;&nbsp;&nbsp;&nbsp;&nbsp;3.4 Make Model</b>"
   ]
  },
  {
   "cell_type": "code",
   "execution_count": 16,
   "metadata": {},
   "outputs": [
    {
     "data": {
      "text/plain": [
       "LogisticRegression(C=1.0, class_weight=None, dual=False, fit_intercept=True,\n",
       "          intercept_scaling=1, max_iter=100, multi_class='ovr', n_jobs=1,\n",
       "          penalty='l2', random_state=55, solver='lbfgs', tol=0.0001,\n",
       "          verbose=0, warm_start=False)"
      ]
     },
     "execution_count": 16,
     "metadata": {},
     "output_type": "execute_result"
    }
   ],
   "source": [
    "from sklearn.linear_model import LogisticRegression\n",
    "\n",
    "#create logisitic regression object and fitting the data with the classifier\n",
    "logitR = LogisticRegression(dual=False, tol=0.0001, solver=\"lbfgs\", multi_class='ovr',random_state=55)\n",
    "logitR.fit(log_X_train, log_y_train)"
   ]
  },
  {
   "cell_type": "code",
   "execution_count": 17,
   "metadata": {},
   "outputs": [],
   "source": [
    "#predicting the values of the test dataset\n",
    "log_pred_y = logitR.predict(log_X_test)\n",
    "log_pred_p = logitR.predict_proba(log_X_test)"
   ]
  },
  {
   "cell_type": "markdown",
   "metadata": {},
   "source": [
    "<b>&nbsp;&nbsp;&nbsp;&nbsp;&nbsp;&nbsp;&nbsp;&nbsp;3.5 Model Summary</b>"
   ]
  },
  {
   "cell_type": "code",
   "execution_count": 18,
   "metadata": {},
   "outputs": [
    {
     "name": "stdout",
     "output_type": "stream",
     "text": [
      "Confusion Matrix :\n",
      "[[1746 3998  938   67]\n",
      " [1595 4853 1639  144]\n",
      " [1004 4005 1948  165]\n",
      " [ 515 2660 1523  166]]\n"
     ]
    },
    {
     "data": {
      "image/png": "[encoded data removed]",
      "text/plain": [
       "<Figure size 432x288 with 2 Axes>"
      ]
     },
     "metadata": {},
     "output_type": "display_data"
    },
    {
     "name": "stdout",
     "output_type": "stream",
     "text": [
      "\n",
      "Overall Precision Score of Model :  0.32509904497039666\n",
      "\n",
      "Classification Report :\n",
      "             precision    recall  f1-score   support\n",
      "\n",
      "          A       0.36      0.26      0.30      6749\n",
      "          B       0.31      0.59      0.41      8231\n",
      "          C       0.32      0.27      0.30      7122\n",
      "          D       0.31      0.03      0.06      4864\n",
      "\n",
      "avg / total       0.33      0.32      0.29     26966\n",
      "\n"
     ]
    }
   ],
   "source": [
    "#Assessing model accuracy. Getting summary statistics\n",
    "from sklearn.metrics import confusion_matrix, precision_score, classification_report\n",
    "\n",
    "#Loading the confusion matrix module \n",
    "labels = [\"A\",\"B\",\"C\",\"D\"]\n",
    "conf_mat= confusion_matrix(log_y_test, log_pred_y,labels = [\"A\",\"B\",\"C\",\"D\"])\n",
    "print(\"Confusion Matrix :\")\n",
    "print(conf_mat)\n",
    "\n",
    "fig = plt.figure()\n",
    "ax = fig.add_subplot(111)\n",
    "cax = ax.matshow(conf_mat)\n",
    "plt.title('Confusion matrix of the classifier')\n",
    "fig.colorbar(cax)\n",
    "ax.set_xticklabels([''] + labels)\n",
    "ax.set_yticklabels([''] + labels)\n",
    "plt.xlabel('Predicted')\n",
    "plt.ylabel('True')\n",
    "plt.show()\n",
    "\n",
    "#Calculating the precision score\n",
    "print(\"\\nOverall Precision Score of Model : \",precision_score(log_y_test, log_pred_y, average = 'macro'))\n",
    "\n",
    "#Genrating classification report\n",
    "print(\"\\nClassification Report :\")\n",
    "print(classification_report(log_y_test,log_pred_y))"
   ]
  },
  {
   "cell_type": "code",
   "execution_count": null,
   "metadata": {},
   "outputs": [],
   "source": []
  }
 ],
 "metadata": {
  "kernelspec": {
   "display_name": "Python 3",
   "language": "python",
   "name": "python3"
  },
  "language_info": {
   "codemirror_mode": {
    "name": "ipython",
    "version": 3
   },
   "file_extension": ".py",
   "mimetype": "text/x-python",
   "name": "python",
   "nbconvert_exporter": "python",
   "pygments_lexer": "ipython3",
   "version": "3.7.0"
  }
 },
 "nbformat": 4,
 "nbformat_minor": 2
}
